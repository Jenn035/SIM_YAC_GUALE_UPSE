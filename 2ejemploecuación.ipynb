{
  "nbformat": 4,
  "nbformat_minor": 0,
  "metadata": {
    "colab": {
      "provenance": [],
      "toc_visible": true,
      "authorship_tag": "ABX9TyNjnaiFeyxjfEwzbytEdTGc",
      "include_colab_link": true
    },
    "kernelspec": {
      "name": "python3",
      "display_name": "Python 3"
    },
    "language_info": {
      "name": "python"
    }
  },
  "cells": [
    {
      "cell_type": "markdown",
      "metadata": {
        "id": "view-in-github",
        "colab_type": "text"
      },
      "source": [
        "<a href=\"https://colab.research.google.com/github/Jenn035/SIM_YAC_GUALE_UPSE/blob/main/3ecuaci%C3%B3n.ipynb\" target=\"_parent\"><img src=\"https://colab.research.google.com/assets/colab-badge.svg\" alt=\"Open In Colab\"/></a>"
      ]
    },
    {
      "cell_type": "markdown",
      "source": [
        "#simulador ecuación de la difusividad"
      ],
      "metadata": {
        "id": "YxgbNYyfu8e5"
      }
    },
    {
      "cell_type": "markdown",
      "source": [],
      "metadata": {
        "id": "N9r49rmHEyJ3"
      }
    },
    {
      "cell_type": "code",
      "source": [
        "#simulador\n",
        "import numpy as np"
      ],
      "metadata": {
        "id": "Xi-HbskPvJ0r"
      },
      "execution_count": 81,
      "outputs": []
    },
    {
      "cell_type": "code",
      "source": [
        "P=[0, 4000, 4000, 4000, 4000, 4000, 0]\n",
        "Nodos=len(P)\n",
        "Nodos2=[0,1,2,3,4,5,6]\n",
        "Tiempo=100\n",
        "DT=10\n",
        "dx=200\n",
        "#iniciamos\n",
        "t=DT\n",
        "Pin=P\n",
        "Pin2=Pin #resultados\n",
        "Pdt=[0,0,0,0,0,0,0]"
      ],
      "metadata": {
        "id": "qtR491PLvGE3"
      },
      "execution_count": 93,
      "outputs": []
    },
    {
      "cell_type": "markdown",
      "source": [],
      "metadata": {
        "id": "yi8H2_8IK-kY"
      }
    },
    {
      "cell_type": "code",
      "source": [
        "def Presdt(P1,P2,P3,deltat,deltax):  \n",
        "  return(((P1-2*P2+P3)/(deltax*deltax))*deltat)+P2"
      ],
      "metadata": {
        "id": "D5iKggWaveyu"
      },
      "execution_count": 94,
      "outputs": []
    },
    {
      "cell_type": "code",
      "source": [
        "while t<Tiempo:\n",
        "    for i in (Nodos2):\n",
        "       if i==0:\n",
        "        Pdt[i]=P[0]\n",
        "       elif i==len(Nodos2)-1:\n",
        "        Pdt[i]=P[len(Nodos2)-1]\n",
        "       else:\n",
        "        Pdt[i]=Presdt(Pin[i-1],Pin[i],Pin[i+1],DT,dx)\n",
        "    t=t+DT\n",
        "    Pdt=Pin\n",
        "    Pin2=np.append(Pin2,Pdt)\n",
        "\n"
      ],
      "metadata": {
        "id": "UYC43m2lw0vT"
      },
      "execution_count": 95,
      "outputs": []
    },
    {
      "cell_type": "code",
      "source": [
        "print (Pin2)"
      ],
      "metadata": {
        "colab": {
          "base_uri": "https://localhost:8080/"
        },
        "id": "11dozSh8AHti",
        "outputId": "33539e18-5378-4038-fe45-aba6bd9d9c93"
      },
      "execution_count": 96,
      "outputs": [
        {
          "output_type": "stream",
          "name": "stdout",
          "text": [
            "[   0.         4000.         4000.         4000.         4000.\n",
            " 4000.            0.            0.         4000.         4000.\n",
            " 4000.         4000.         4000.            0.            0.\n",
            " 3999.         3999.99975    3999.99999994 4000.         3999.\n",
            "    0.            0.         3998.00049994 3999.99925025 3999.99999975\n",
            " 3999.99975    3998.00049994    0.            0.         3997.0014995\n",
            " 3999.998501   3999.99999931 3999.99925025 3997.0014995     0.\n",
            "    0.         3996.00299838 3999.9975025  3999.9999985  3999.998501\n",
            " 3996.00299838    0.            0.         3995.00499625 3999.996255\n",
            " 3999.99999719 3999.9975025  3995.00499625    0.            0.\n",
            " 3994.00749282 3999.99475874 3999.99999526 3999.99625499 3994.00749282\n",
            "    0.            0.         3993.01048776 3999.99301398 3999.99999258\n",
            " 3999.99475874 3993.01048776    0.            0.         3992.01398077\n",
            " 3999.99102097 3999.99998903 3999.99301398 3992.01398077    0.        ]\n"
          ]
        }
      ]
    },
    {
      "cell_type": "code",
      "source": [
        "print (Pin)"
      ],
      "metadata": {
        "colab": {
          "base_uri": "https://localhost:8080/"
        },
        "id": "goKJWz-SNltf",
        "outputId": "12c58bda-1232-4cea-ebfe-dfc9f850b0e9"
      },
      "execution_count": 97,
      "outputs": [
        {
          "output_type": "stream",
          "name": "stdout",
          "text": [
            "[0, 3992.013980770545, 3999.991020968752, 3999.999989026214, 3999.993013977811, 3992.0139807705423, 0]\n"
          ]
        }
      ]
    },
    {
      "cell_type": "code",
      "source": [
        "len(Pin2)"
      ],
      "metadata": {
        "colab": {
          "base_uri": "https://localhost:8080/"
        },
        "id": "A9FUVfKMNvaK",
        "outputId": "cae15c3b-5a3c-433e-e871-bd3e6ffa2233"
      },
      "execution_count": 98,
      "outputs": [
        {
          "output_type": "execute_result",
          "data": {
            "text/plain": [
              "70"
            ]
          },
          "metadata": {},
          "execution_count": 98
        }
      ]
    }
  ]
}
