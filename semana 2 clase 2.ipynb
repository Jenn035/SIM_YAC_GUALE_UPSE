{
  "nbformat": 4,
  "nbformat_minor": 0,
  "metadata": {
    "colab": {
      "provenance": [],
      "authorship_tag": "ABX9TyNUf2rDpw75ZEdITLtDfJS0",
      "include_colab_link": true
    },
    "kernelspec": {
      "name": "python3",
      "display_name": "Python 3"
    },
    "language_info": {
      "name": "python"
    }
  },
  "cells": [
    {
      "cell_type": "markdown",
      "metadata": {
        "id": "view-in-github",
        "colab_type": "text"
      },
      "source": [
        "<a href=\"https://colab.research.google.com/github/Jenn035/SIM_YAC_GUALE_UPSE/blob/main/semana%202%20clase%202.ipynb\" target=\"_parent\"><img src=\"https://colab.research.google.com/assets/colab-badge.svg\" alt=\"Open In Colab\"/></a>"
      ]
    },
    {
      "cell_type": "code",
      "execution_count": 1,
      "metadata": {
        "id": "oEuln2weqTlm"
      },
      "outputs": [],
      "source": [
        "import numpy as np\n",
        "import math"
      ]
    },
    {
      "cell_type": "code",
      "source": [
        "L=1000\n",
        "dx=100\n",
        "Tiempo=1000000\n",
        "DT=100\n",
        "k= 50 # permeabilidad Md\n",
        "por=0.2 #porosidad\n",
        "vis=1 # centipoise\n",
        "Beta=1\n",
        "CompTotal=10**-6 #psi-1\n",
        "A=200000 #ft elev 2\n"
      ],
      "metadata": {
        "id": "bNvkOTjAqg1N"
      },
      "execution_count": null,
      "outputs": []
    },
    {
      "cell_type": "code",
      "source": [
        "#Esquema explicito\n"
      ],
      "metadata": {
        "id": "-QkO_UAlrT1Y"
      },
      "execution_count": null,
      "outputs": []
    },
    {
      "cell_type": "code",
      "source": [
        "#Esquema implicito"
      ],
      "metadata": {
        "id": "yh_-LsaDrW1H"
      },
      "execution_count": null,
      "outputs": []
    }
  ]
}