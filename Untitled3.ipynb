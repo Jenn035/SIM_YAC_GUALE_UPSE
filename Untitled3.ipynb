{
  "nbformat": 4,
  "nbformat_minor": 0,
  "metadata": {
    "colab": {
      "provenance": [],
      "authorship_tag": "ABX9TyPGTjRH/GAK8BUV3lPTFFKI",
      "include_colab_link": true
    },
    "kernelspec": {
      "name": "python3",
      "display_name": "Python 3"
    },
    "language_info": {
      "name": "python"
    }
  },
  "cells": [
    {
      "cell_type": "markdown",
      "metadata": {
        "id": "view-in-github",
        "colab_type": "text"
      },
      "source": [
        "<a href=\"https://colab.research.google.com/github/Jenn035/SIM_YAC_GUALE_UPSE/blob/main/Untitled3.ipynb\" target=\"_parent\"><img src=\"https://colab.research.google.com/assets/colab-badge.svg\" alt=\"Open In Colab\"/></a>"
      ]
    },
    {
      "cell_type": "code",
      "execution_count": 26,
      "metadata": {
        "colab": {
          "base_uri": "https://localhost:8080/"
        },
        "id": "F0snht0iOWrT",
        "outputId": "c337b30f-34c6-43f4-89fa-87c22d5b2b94"
      },
      "outputs": [
        {
          "output_type": "stream",
          "name": "stdout",
          "text": [
            "[1 1 1 1 1 1]\n"
          ]
        }
      ],
      "source": [
        "#Simulador ecuacion de la difusividad\n",
        "import numpy as np\n",
        "L=1000 #distancia total\n",
        "dx=200 #delta x\n",
        "Distance=np.arange(0,L+1,dx) #crear un vctor de las distancias\n",
        "P01=np.ones_like(Distance) #vector inicial de presiones\n",
        "\n",
        "print(P01)"
      ]
    },
    {
      "cell_type": "code",
      "source": [
        "PYac=4000\n",
        "PFrontd=0 #frontera derecha\n",
        "PFronti=0 #frontera izquierda\n",
        "Tiempo=100\n",
        "DT=10\n",
        "\n",
        "Pdt=np.zeros_like(Distance)"
      ],
      "metadata": {
        "id": "qhkm1QvITZSr"
      },
      "execution_count": 34,
      "outputs": []
    },
    {
      "cell_type": "code",
      "source": [
        "P01=np.ones_like(Distance)\n",
        "P01=P01*PYac\n",
        "P01[0]=PFronti\n",
        "P01[len(P01)-1]-PFrontd\n",
        "P0in=P01 #condicion inicial \n",
        "Pdt=P01 #vector de resultados dt\n",
        "t=DT #primera interación"
      ],
      "metadata": {
        "id": "akOC1IOlT6sc"
      },
      "execution_count": 36,
      "outputs": []
    },
    {
      "cell_type": "code",
      "source": [
        "print(P01)"
      ],
      "metadata": {
        "colab": {
          "base_uri": "https://localhost:8080/"
        },
        "id": "aOWqC1lVU-R4",
        "outputId": "75501d36-2609-4164-d6b7-d4649dc3ff08"
      },
      "execution_count": 38,
      "outputs": [
        {
          "output_type": "stream",
          "name": "stdout",
          "text": [
            "[   0 4000 4000 4000 4000 4000]\n"
          ]
        }
      ]
    },
    {
      "cell_type": "code",
      "source": [
        "def Presdt(P1,P2,P3,deltat,deltax):  \n",
        "  return(((P1-2*P2+P3)/(deltax*deltax))*deltat)+P2\n"
      ],
      "metadata": {
        "id": "sV42JQ4_VQWY"
      },
      "execution_count": 31,
      "outputs": []
    },
    {
      "cell_type": "code",
      "source": [
        "while t<Tiempo:\n",
        "    for i in range(0,len(P0in)-1):\n",
        "       if i==0:\n",
        "        Pdt[i]=P0in[0]\n",
        "       elif i==len(P0in)-1:\n",
        "        Pdt[i]=P0in[len(P0in)-1]\n",
        "       else:\n",
        "        Pdt[i]=Presdt(P0in[i-1],P0in[i],P0in[i+1],DT,dx)\n",
        "    t=t+DT\n",
        "    P0in=Pdt\n",
        "    P01=np.append(P01,Pdt)\n"
      ],
      "metadata": {
        "id": "fSqwIDKRVdFK"
      },
      "execution_count": 32,
      "outputs": []
    },
    {
      "cell_type": "code",
      "source": [
        "print(P01)"
      ],
      "metadata": {
        "colab": {
          "base_uri": "https://localhost:8080/"
        },
        "id": "PyqvnskjWeky",
        "outputId": "5533c38f-79df-43e0-d056-be2947ca5db1"
      },
      "execution_count": 33,
      "outputs": [
        {
          "output_type": "stream",
          "name": "stdout",
          "text": [
            "[   0 3999 3999 3999 3999 4000    0 3999 3999 3999 3999 4000    0 3998\n",
            " 3998 3998 3999 4000    0 3997 3997 3998 3999 4000    0 3996 3997 3998\n",
            " 3999 4000    0 3995 3996 3997 3998 4000    0 3994 3995 3996 3998 4000\n",
            "    0 3993 3994 3996 3998 4000    0 3992 3994 3996 3998 4000    0 3991\n",
            " 3993 3995 3997 4000]\n"
          ]
        }
      ]
    }
  ]
}